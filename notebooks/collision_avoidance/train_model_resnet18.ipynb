{
  "cells": [
    {
      "cell_type": "markdown",
      "metadata": {
        "id": "view-in-github",
        "colab_type": "text"
      },
      "source": [
        "<a href=\"https://colab.research.google.com/github/joeuser846/jetbot/blob/master/notebooks/collision_avoidance/train_model_resnet18.ipynb\" target=\"_parent\"><img src=\"https://colab.research.google.com/assets/colab-badge.svg\" alt=\"Open In Colab\"/></a>"
      ]
    },
    {
      "cell_type": "markdown",
      "metadata": {
        "id": "Gt2Gp6-oKRqK"
      },
      "source": [
        "# Collision Avoidance - Train Model (ResNet18)\n",
        "\n",
        "Welcome to this host side Jupyter Notebook!  This should look familiar if you ran through the notebooks that run on the robot.  In this notebook we'll train our image classifier to detect two classes\n",
        "``free`` and ``blocked``, which we'll use for avoiding collisions.  For this, we'll use a popular deep learning library *PyTorch*"
      ]
    },
    {
      "cell_type": "code",
      "execution_count": 1,
      "metadata": {
        "id": "flRZjxudKRqM"
      },
      "outputs": [],
      "source": [
        "import torch\n",
        "import torch.optim as optim\n",
        "import torch.nn.functional as F\n",
        "import torchvision\n",
        "import torchvision.datasets as datasets\n",
        "import torchvision.models as models\n",
        "import torchvision.transforms as transforms"
      ]
    },
    {
      "cell_type": "markdown",
      "metadata": {
        "id": "thOVfJN-KRqN"
      },
      "source": [
        "### Upload and extract dataset\n",
        "\n",
        "Before you start, you should upload the ``dataset.zip`` file that you created in the ``data_collection.ipynb`` notebook on the robot.\n",
        "\n",
        "You should then extract this dataset by calling the command below"
      ]
    },
    {
      "cell_type": "code",
      "execution_count": 6,
      "metadata": {
        "id": "YOzhmIjmKRqN"
      },
      "outputs": [],
      "source": [
        "!unzip -q /content/dataset.zip"
      ]
    },
    {
      "cell_type": "markdown",
      "metadata": {
        "id": "Ya_Mi40aKRqO"
      },
      "source": [
        "You should see a folder named ``dataset`` appear in the file browser."
      ]
    },
    {
      "cell_type": "markdown",
      "metadata": {
        "id": "K019M-YVKRqO"
      },
      "source": [
        "### Create dataset instance"
      ]
    },
    {
      "cell_type": "markdown",
      "metadata": {
        "id": "js-ojxDBKRqP"
      },
      "source": [
        "Now we use the ``ImageFolder`` dataset class available with the ``torchvision.datasets`` package.  We attach transforms from the ``torchvision.transforms`` package to prepare the data for training.  "
      ]
    },
    {
      "cell_type": "code",
      "execution_count": 7,
      "metadata": {
        "id": "B5Lkooq0KRqP"
      },
      "outputs": [],
      "source": [
        "dataset = datasets.ImageFolder(\n",
        "    'dataset',\n",
        "    transforms.Compose([\n",
        "        transforms.ColorJitter(0.1, 0.1, 0.1, 0.1),\n",
        "        transforms.Resize((224, 224)),\n",
        "        transforms.ToTensor(),\n",
        "        transforms.Normalize([0.485, 0.456, 0.406], [0.229, 0.224, 0.225])\n",
        "    ])\n",
        ")"
      ]
    },
    {
      "cell_type": "markdown",
      "metadata": {
        "id": "5tcDUk5DKRqQ"
      },
      "source": [
        "### Split dataset into train and test sets"
      ]
    },
    {
      "cell_type": "markdown",
      "metadata": {
        "id": "q7hIiI_yKRqQ"
      },
      "source": [
        "Next, we split the dataset into *training* and *test* sets.  The test set will be used to verify the accuracy of the model we train."
      ]
    },
    {
      "cell_type": "code",
      "execution_count": 8,
      "metadata": {
        "id": "A-YytBqcKRqQ"
      },
      "outputs": [],
      "source": [
        "train_dataset, test_dataset = torch.utils.data.random_split(dataset, [len(dataset) - 50, 50])"
      ]
    },
    {
      "cell_type": "markdown",
      "metadata": {
        "id": "iJX4sT_gKRqS"
      },
      "source": [
        "### Create data loaders to load data in batches"
      ]
    },
    {
      "cell_type": "markdown",
      "metadata": {
        "id": "kpYtkY_UKRqS"
      },
      "source": [
        "We'll create two ``DataLoader`` instances, which provide utilities for shuffling data, producing *batches* of images, and loading the samples in parallel with multiple workers."
      ]
    },
    {
      "cell_type": "code",
      "execution_count": 9,
      "metadata": {
        "id": "cIOpxjIlKRqS"
      },
      "outputs": [],
      "source": [
        "train_loader = torch.utils.data.DataLoader(\n",
        "    train_dataset,\n",
        "    batch_size=8,\n",
        "    shuffle=True,\n",
        "    num_workers=0,\n",
        ")\n",
        "\n",
        "test_loader = torch.utils.data.DataLoader(\n",
        "    test_dataset,\n",
        "    batch_size=8,\n",
        "    shuffle=True,\n",
        "    num_workers=0,\n",
        ")"
      ]
    },
    {
      "cell_type": "markdown",
      "metadata": {
        "id": "uRnEq83lKRqS"
      },
      "source": [
        "### Define the neural network\n",
        "\n",
        "Now, we define the neural network we'll be training.  The *torchvision* package provides a collection of pre-trained models that we can use.\n",
        "\n",
        "In a process called *transfer learning*, we can repurpose a pre-trained model (trained on millions of images) for a new task that has possibly much less data available.\n",
        "\n",
        "Important features that were learned in the original training of the pre-trained model are re-usable for the new task.  We'll use the ``resnet18`` model."
      ]
    },
    {
      "cell_type": "code",
      "execution_count": 10,
      "metadata": {
        "colab": {
          "base_uri": "https://localhost:8080/"
        },
        "id": "RK1PfjXPKRqT",
        "outputId": "2cce3b13-dffb-4130-ad6e-2726c3a03084"
      },
      "outputs": [
        {
          "output_type": "stream",
          "name": "stderr",
          "text": [
            "/usr/local/lib/python3.11/dist-packages/torchvision/models/_utils.py:208: UserWarning: The parameter 'pretrained' is deprecated since 0.13 and may be removed in the future, please use 'weights' instead.\n",
            "  warnings.warn(\n",
            "/usr/local/lib/python3.11/dist-packages/torchvision/models/_utils.py:223: UserWarning: Arguments other than a weight enum or `None` for 'weights' are deprecated since 0.13 and may be removed in the future. The current behavior is equivalent to passing `weights=ResNet18_Weights.IMAGENET1K_V1`. You can also use `weights=ResNet18_Weights.DEFAULT` to get the most up-to-date weights.\n",
            "  warnings.warn(msg)\n",
            "Downloading: \"https://download.pytorch.org/models/resnet18-f37072fd.pth\" to /root/.cache/torch/hub/checkpoints/resnet18-f37072fd.pth\n",
            "100%|██████████| 44.7M/44.7M [00:00<00:00, 123MB/s]\n"
          ]
        }
      ],
      "source": [
        "model = models.resnet18(pretrained=True)"
      ]
    },
    {
      "cell_type": "markdown",
      "metadata": {
        "id": "jOWSRdsSKRqT"
      },
      "source": [
        "The ``resnet18`` model was originally trained for a dataset that had 1000 class labels, but our dataset only has two class labels!  We'll replace\n",
        "the final layer with a new, untrained layer that has only two outputs.  "
      ]
    },
    {
      "cell_type": "code",
      "execution_count": 11,
      "metadata": {
        "id": "_chuQYG3KRqT"
      },
      "outputs": [],
      "source": [
        "model.fc = torch.nn.Linear(512, 2)"
      ]
    },
    {
      "cell_type": "markdown",
      "metadata": {
        "id": "9c3As7nbKRqU"
      },
      "source": [
        "Finally, we transfer our model for execution on the GPU"
      ]
    },
    {
      "cell_type": "code",
      "execution_count": 12,
      "metadata": {
        "id": "I9Oy07TyKRqU"
      },
      "outputs": [],
      "source": [
        "device = torch.device('cuda')\n",
        "model = model.to(device)"
      ]
    },
    {
      "cell_type": "markdown",
      "metadata": {
        "id": "LCsMlAC5KRqU"
      },
      "source": [
        "### Train the neural network\n",
        "\n",
        "Using the code below we will train the neural network for 30 epochs, saving the best performing model after each epoch.\n",
        "\n",
        "> An epoch is a full run through our data."
      ]
    },
    {
      "cell_type": "code",
      "execution_count": 13,
      "metadata": {
        "scrolled": true,
        "colab": {
          "base_uri": "https://localhost:8080/"
        },
        "id": "ZUaQ1hsPKRqU",
        "outputId": "249bf3b6-4163-408d-c839-e695d37f5180"
      },
      "outputs": [
        {
          "output_type": "stream",
          "name": "stdout",
          "text": [
            "0: 0.960000\n",
            "1: 0.860000\n",
            "2: 0.960000\n",
            "3: 0.940000\n",
            "4: 0.920000\n",
            "5: 0.900000\n",
            "6: 0.920000\n",
            "7: 0.900000\n",
            "8: 0.960000\n",
            "9: 0.940000\n",
            "10: 0.980000\n",
            "11: 0.960000\n",
            "12: 0.940000\n",
            "13: 0.960000\n",
            "14: 0.940000\n",
            "15: 0.920000\n",
            "16: 0.900000\n",
            "17: 0.960000\n",
            "18: 0.960000\n",
            "19: 0.940000\n",
            "20: 0.980000\n",
            "21: 0.960000\n",
            "22: 1.000000\n",
            "23: 0.980000\n",
            "24: 0.940000\n",
            "25: 0.960000\n",
            "26: 1.000000\n",
            "27: 0.940000\n",
            "28: 0.980000\n",
            "29: 0.980000\n"
          ]
        }
      ],
      "source": [
        "NUM_EPOCHS = 30\n",
        "BEST_MODEL_PATH = 'best_model_resnet18.pth'\n",
        "best_accuracy = 0.0\n",
        "\n",
        "optimizer = optim.SGD(model.parameters(), lr=0.001, momentum=0.9)\n",
        "\n",
        "for epoch in range(NUM_EPOCHS):\n",
        "\n",
        "    for images, labels in iter(train_loader):\n",
        "        images = images.to(device)\n",
        "        labels = labels.to(device)\n",
        "        optimizer.zero_grad()\n",
        "        outputs = model(images)\n",
        "        loss = F.cross_entropy(outputs, labels)\n",
        "        loss.backward()\n",
        "        optimizer.step()\n",
        "\n",
        "    test_error_count = 0.0\n",
        "    for images, labels in iter(test_loader):\n",
        "        images = images.to(device)\n",
        "        labels = labels.to(device)\n",
        "        outputs = model(images)\n",
        "        test_error_count += float(torch.sum(torch.abs(labels - outputs.argmax(1))))\n",
        "\n",
        "    test_accuracy = 1.0 - float(test_error_count) / float(len(test_dataset))\n",
        "    print('%d: %f' % (epoch, test_accuracy))\n",
        "    if test_accuracy > best_accuracy:\n",
        "        torch.save(model.state_dict(), BEST_MODEL_PATH)\n",
        "        best_accuracy = test_accuracy"
      ]
    },
    {
      "cell_type": "markdown",
      "metadata": {
        "id": "-YntyMEIKRqU"
      },
      "source": [
        "Once that is finished, you should see a file ``best_model_resnet18.pth`` in the Jupyter Lab file browser.  Select ``Right click`` -> ``Download`` to download the model to your workstation"
      ]
    },
    {
      "cell_type": "code",
      "execution_count": null,
      "metadata": {
        "id": "Fvsdq9nlKRqV"
      },
      "outputs": [],
      "source": []
    }
  ],
  "metadata": {
    "kernelspec": {
      "display_name": "Python 3",
      "name": "python3"
    },
    "language_info": {
      "codemirror_mode": {
        "name": "ipython",
        "version": 3
      },
      "file_extension": ".py",
      "mimetype": "text/x-python",
      "name": "python",
      "nbconvert_exporter": "python",
      "pygments_lexer": "ipython3",
      "version": "3.6.9"
    },
    "colab": {
      "provenance": [],
      "gpuType": "T4",
      "include_colab_link": true
    },
    "accelerator": "GPU"
  },
  "nbformat": 4,
  "nbformat_minor": 0
}